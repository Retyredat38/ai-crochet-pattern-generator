{
 "cells": [
  {
   "cell_type": "code",
   "execution_count": 4,
   "id": "04c1653a-d943-4264-b4b4-b216b29563ef",
   "metadata": {},
   "outputs": [
    {
     "name": "stdout",
     "output_type": "stream",
     "text": [
      "# 🧶 Blacktip Reef Shark (Amigurumi)\n",
      "\n",
      "**Size**: Approx. 8-10 inches\n",
      "**Difficulty**: Intermediate\n",
      "\n",
      "## 🧵 Materials:\n",
      "- Worsted weight yarn – Light Gray\n",
      "- Worsted weight yarn – White (belly)\n",
      "- Worsted weight yarn – Black (fin tips)\n",
      "- Crochet Hook: 3.5mm (E)\n",
      "- Eyes: 9mm safety eyes\n",
      "- Stuffing: Polyfil fiber stuffing\n",
      "- Yarn needle\n",
      "- Stitch marker\n",
      "- Scissors\n",
      "\n",
      "## ✨ Features:\n",
      "- Curved dorsal fin\n",
      "- Tapered body with black tip tail\n",
      "- Sewn-on pectoral and pelvic fins\n",
      "- White underbelly\n",
      "\n",
      "## 🪡 Body:\n",
      "MR, 6 SC (6)\n",
      "INC in each ST (12)\n",
      "(SC, INC) x6 (18)\n",
      "(2 SC, INC) x6 (24)\n",
      "SC around for 6 rounds (24)\n",
      "(2 SC, DEC) x6 (18)\n",
      "SC around for 4 rounds (18)\n",
      "(SC, DEC) x6 (12)\n",
      "SC around for 3 rounds (12)\n",
      "FO, stuff lightly\n",
      "\n",
      "## 🦈 Fins:\n",
      "### Dorsal Fin:\n",
      "- CH 2, 4 SC in second CH from hook, turn\n",
      "- INC in each ST (8)\n",
      "- SC around 2 rows\n",
      "- FO\n",
      "\n",
      "### Tail Fin:\n",
      "- MR, 6 SC\n",
      "- SC around 4 rows\n",
      "- Flatten and SC across\n",
      "- FO\n",
      "\n",
      "### Pectoral Fin:\n",
      "- CH 2, 6 SC in 2nd CH, turn\n",
      "- SC around 2 rows\n",
      "- FO\n",
      "\n",
      "## 🧷 Assembly:\n",
      "- Attach dorsal fin to top of body around round 5\n",
      "- Sew tail to back center using black yarn\n",
      "- Attach pectoral fins symmetrically on each side\n",
      "- Add white belly using flat felt or contrasting yarn (optional)\n",
      "\n",
      "## 📘 Abbreviation Key:\n",
      "- **MR**: Magic Ring\n",
      "- **SC**: Single Crochet\n",
      "- **INC**: Increase (2 SC in one stitch)\n",
      "- **DEC**: Decrease (single crochet 2 together)\n",
      "- **CH**: Chain\n",
      "- **SL ST**: Slip Stitch\n",
      "- **HDC**: Half Double Crochet\n",
      "- **DC**: Double Crochet\n",
      "- **FLO**: Front Loop Only\n",
      "- **BLO**: Back Loop Only\n",
      "- **FO**: Fasten Off\n",
      "- **REP**: Repeat\n",
      "- **ST**: Stitch\n",
      "- **STS**: Stitches\n",
      "- **TO JOIN**: Join with slip stitch to first stitch of round\n"
     ]
    }
   ],
   "source": [
    "from core.pattern_builder import build_shark_pattern\n",
    "\n",
    "pattern = build_shark_pattern()\n",
    "print(pattern)\n"
   ]
  }
 ],
 "metadata": {
  "kernelspec": {
   "display_name": "Python 3 (ipykernel)",
   "language": "python",
   "name": "python3"
  },
  "language_info": {
   "codemirror_mode": {
    "name": "ipython",
    "version": 3
   },
   "file_extension": ".py",
   "mimetype": "text/x-python",
   "name": "python",
   "nbconvert_exporter": "python",
   "pygments_lexer": "ipython3",
   "version": "3.12.7"
  }
 },
 "nbformat": 4,
 "nbformat_minor": 5
}
